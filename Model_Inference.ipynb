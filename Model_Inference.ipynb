{
 "cells": [
  {
   "cell_type": "code",
   "execution_count": 1,
   "metadata": {},
   "outputs": [],
   "source": [
    "# Mengimport Library \n",
    "import pickle\n",
    "import pandas as pd\n",
    "import numpy as np\n",
    "from sklearn.pipeline import Pipeline\n",
    "from sklearn.preprocessing import StandardScaler"
   ]
  },
  {
   "cell_type": "code",
   "execution_count": 2,
   "metadata": {},
   "outputs": [],
   "source": [
    "# Mebuka file pkl\n",
    "with open('pipeline.pkl', 'rb') as file_1:\n",
    "    pipeline_kmeans = pickle.load(file_1)"
   ]
  },
  {
   "cell_type": "code",
   "execution_count": 3,
   "metadata": {},
   "outputs": [
    {
     "data": {
      "text/html": [
       "<div>\n",
       "<style scoped>\n",
       "    .dataframe tbody tr th:only-of-type {\n",
       "        vertical-align: middle;\n",
       "    }\n",
       "\n",
       "    .dataframe tbody tr th {\n",
       "        vertical-align: top;\n",
       "    }\n",
       "\n",
       "    .dataframe thead th {\n",
       "        text-align: right;\n",
       "    }\n",
       "</style>\n",
       "<table border=\"1\" class=\"dataframe\">\n",
       "  <thead>\n",
       "    <tr style=\"text-align: right;\">\n",
       "      <th></th>\n",
       "      <th>BALANCE</th>\n",
       "      <th>BALANCE_FREQUENCY</th>\n",
       "      <th>PURCHASES</th>\n",
       "      <th>ONEOFF_PURCHASES</th>\n",
       "      <th>INSTALLMENTS_PURCHASES</th>\n",
       "      <th>CASH_ADVANCE</th>\n",
       "      <th>PURCHASES_FREQUENCY</th>\n",
       "      <th>ONEOFF_PURCHASES_FREQUENCY</th>\n",
       "      <th>PURCHASES_INSTALLMENTS_FREQUENCY</th>\n",
       "      <th>CASH_ADVANCE_FREQUENCY</th>\n",
       "      <th>CASH_ADVANCE_TRX</th>\n",
       "      <th>PURCHASES_TRX</th>\n",
       "      <th>CREDIT_LIMIT</th>\n",
       "      <th>PAYMENTS</th>\n",
       "      <th>MINIMUM_PAYMENTS</th>\n",
       "      <th>PRC_FULL_PAYMENT</th>\n",
       "      <th>TENURE</th>\n",
       "    </tr>\n",
       "  </thead>\n",
       "  <tbody>\n",
       "    <tr>\n",
       "      <th>0</th>\n",
       "      <td>442.613643</td>\n",
       "      <td>0.454545</td>\n",
       "      <td>610.0</td>\n",
       "      <td>357.4</td>\n",
       "      <td>92.07</td>\n",
       "      <td>762.301096</td>\n",
       "      <td>0.125</td>\n",
       "      <td>0.363636</td>\n",
       "      <td>0.454545</td>\n",
       "      <td>0.272727</td>\n",
       "      <td>7</td>\n",
       "      <td>5</td>\n",
       "      <td>5500.0</td>\n",
       "      <td>290.12962</td>\n",
       "      <td>277.084736</td>\n",
       "      <td>0.0</td>\n",
       "      <td>7</td>\n",
       "    </tr>\n",
       "  </tbody>\n",
       "</table>\n",
       "</div>"
      ],
      "text/plain": [
       "      BALANCE  BALANCE_FREQUENCY  PURCHASES  ONEOFF_PURCHASES  \\\n",
       "0  442.613643           0.454545      610.0             357.4   \n",
       "\n",
       "   INSTALLMENTS_PURCHASES  CASH_ADVANCE  PURCHASES_FREQUENCY  \\\n",
       "0                   92.07    762.301096                0.125   \n",
       "\n",
       "   ONEOFF_PURCHASES_FREQUENCY  PURCHASES_INSTALLMENTS_FREQUENCY  \\\n",
       "0                    0.363636                          0.454545   \n",
       "\n",
       "   CASH_ADVANCE_FREQUENCY  CASH_ADVANCE_TRX  PURCHASES_TRX  CREDIT_LIMIT  \\\n",
       "0                0.272727                 7              5        5500.0   \n",
       "\n",
       "    PAYMENTS  MINIMUM_PAYMENTS  PRC_FULL_PAYMENT  TENURE  \n",
       "0  290.12962        277.084736               0.0       7  "
      ]
     },
     "execution_count": 3,
     "metadata": {},
     "output_type": "execute_result"
    }
   ],
   "source": [
    "# Membuat dataset baru df_inf memasukkan data\n",
    "df_inf= {\n",
    "    'BALANCE':442.613643,\n",
    "    'BALANCE_FREQUENCY':0.454545,\n",
    "    'PURCHASES':610.00,\n",
    "    'ONEOFF_PURCHASES': 357.40,\n",
    "    'INSTALLMENTS_PURCHASES':92.07,\n",
    "    'CASH_ADVANCE':762.301096,\n",
    "    'PURCHASES_FREQUENCY':0.125\t,\n",
    "    'ONEOFF_PURCHASES_FREQUENCY':0.363636,\n",
    "    'PURCHASES_INSTALLMENTS_FREQUENCY':0.454545,\n",
    "    'CASH_ADVANCE_FREQUENCY':0.272727,\n",
    "    'CASH_ADVANCE_TRX':7,\n",
    "    'PURCHASES_TRX':5,\n",
    "    'CREDIT_LIMIT':5500.0,\n",
    "    'PAYMENTS':290.129620,\n",
    "    'MINIMUM_PAYMENTS':277.084736, \n",
    "    'PRC_FULL_PAYMENT':0.000,\n",
    "    'TENURE':7,\n",
    "}\n",
    "df_inf = pd.DataFrame([df_inf])\n",
    "df_inf"
   ]
  },
  {
   "cell_type": "code",
   "execution_count": 4,
   "metadata": {},
   "outputs": [],
   "source": [
    "df_inf.drop('TENURE', axis=1, inplace=True)"
   ]
  },
  {
   "cell_type": "code",
   "execution_count": 7,
   "metadata": {},
   "outputs": [
    {
     "name": "stdout",
     "output_type": "stream",
     "text": [
      "Customer ini termasuk pada CLUSTER: 1\n"
     ]
    }
   ],
   "source": [
    "# Memprediksi cluster dari data\n",
    "pred = pipeline_kmeans.predict(df_inf)\n",
    "\n",
    "print('Customer ini termasuk pada CLUSTER:', round(pred[0],2))"
   ]
  }
 ],
 "metadata": {
  "kernelspec": {
   "display_name": "base",
   "language": "python",
   "name": "python3"
  },
  "language_info": {
   "codemirror_mode": {
    "name": "ipython",
    "version": 3
   },
   "file_extension": ".py",
   "mimetype": "text/x-python",
   "name": "python",
   "nbconvert_exporter": "python",
   "pygments_lexer": "ipython3",
   "version": "3.11.5"
  }
 },
 "nbformat": 4,
 "nbformat_minor": 2
}
